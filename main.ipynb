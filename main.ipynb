{
 "cells": [
  {
   "cell_type": "code",
   "execution_count": 1,
   "metadata": {},
   "outputs": [],
   "source": [
    "# pip install pyspark\n",
    "# ! pip uninstall openpyxl\n"
   ]
  },
  {
   "cell_type": "markdown",
   "metadata": {},
   "source": [
    "### Quick Spark Project"
   ]
  },
  {
   "cell_type": "code",
   "execution_count": 33,
   "metadata": {},
   "outputs": [],
   "source": [
    "from pyspark.sql import SparkSession\n",
    "from pyspark.sql.functions import *\n",
    "from pyspark.sql.types import *\n",
    "\n",
    "import pandas as pd\n",
    "import numpy as np\n",
    "import matplotlib.pyplot as plt\n",
    "import seaborn as sns\n",
    "\n",
    "from pyspark.ml.feature import VectorAssembler\n",
    "from pyspark.ml.feature import StandardScaler\n",
    "\n",
    "from pyspark.ml.clustering import KMeans\n",
    "from pyspark.ml.evaluation import ClusteringEvaluator\n"
   ]
  },
  {
   "cell_type": "markdown",
   "metadata": {},
   "source": [
    "Build a spark session and set a name for the application. Then cache data in off-heap memory to avoid storing it directly on disk, and the amount of memory is manually specified"
   ]
  },
  {
   "cell_type": "code",
   "execution_count": 2,
   "metadata": {},
   "outputs": [
    {
     "name": "stderr",
     "output_type": "stream",
     "text": [
      "24/10/08 14:05:29 WARN Utils: Your hostname, mjmac.local resolves to a loopback address: 127.0.0.1; using 192.168.1.38 instead (on interface en0)\n",
      "24/10/08 14:05:29 WARN Utils: Set SPARK_LOCAL_IP if you need to bind to another address\n",
      "Setting default log level to \"WARN\".\n",
      "To adjust logging level use sc.setLogLevel(newLevel). For SparkR, use setLogLevel(newLevel).\n",
      "24/10/08 14:05:32 WARN NativeCodeLoader: Unable to load native-hadoop library for your platform... using builtin-java classes where applicable\n"
     ]
    }
   ],
   "source": [
    "# Create Spark session\n",
    "\n",
    "# spark = SparkSession.builder.appName(\"Pyspark demo\").config(\"spark.memory.offHeap.enabled\",\"true\").config(\"spark.memory.offHeap.size\",\"10g\").getOrCreate()\n",
    "\n",
    "spark = SparkSession.builder.appName(\"Pyspark demo\").getOrCreate()"
   ]
  },
  {
   "cell_type": "code",
   "execution_count": 3,
   "metadata": {},
   "outputs": [],
   "source": [
    "# Read file\n",
    "df = pd.read_excel('/Users/mercycherono/Documents/GitHub/spark/Online Retail.xlsx', header=0)"
   ]
  },
  {
   "cell_type": "code",
   "execution_count": 4,
   "metadata": {},
   "outputs": [],
   "source": [
    "# Convert to Spark DataFrame\n",
    "df = spark.createDataFrame(df)"
   ]
  },
  {
   "cell_type": "code",
   "execution_count": 6,
   "metadata": {},
   "outputs": [
    {
     "name": "stderr",
     "output_type": "stream",
     "text": [
      "24/10/08 14:10:57 WARN TaskSetManager: Stage 0 contains a task of very large size (8486 KiB). The maximum recommended task size is 1000 KiB.\n",
      "24/10/08 14:11:06 WARN PythonRunner: Detected deadlock while completing task 0.0 in stage 0 (TID 0): Attempting to kill Python Worker\n",
      "                                                                                \r"
     ]
    },
    {
     "data": {
      "text/plain": [
       "[Row(InvoiceNo='536365', StockCode='85123A', Description='WHITE HANGING HEART T-LIGHT HOLDER', Quantity=6, InvoiceDate=datetime.datetime(2010, 12, 1, 8, 26), UnitPrice=2.55, CustomerID=17850.0, Country='United Kingdom'),\n",
       " Row(InvoiceNo='536365', StockCode='71053', Description='WHITE METAL LANTERN', Quantity=6, InvoiceDate=datetime.datetime(2010, 12, 1, 8, 26), UnitPrice=3.39, CustomerID=17850.0, Country='United Kingdom'),\n",
       " Row(InvoiceNo='536365', StockCode='84406B', Description='CREAM CUPID HEARTS COAT HANGER', Quantity=8, InvoiceDate=datetime.datetime(2010, 12, 1, 8, 26), UnitPrice=2.75, CustomerID=17850.0, Country='United Kingdom'),\n",
       " Row(InvoiceNo='536365', StockCode='84029G', Description='KNITTED UNION FLAG HOT WATER BOTTLE', Quantity=6, InvoiceDate=datetime.datetime(2010, 12, 1, 8, 26), UnitPrice=3.39, CustomerID=17850.0, Country='United Kingdom'),\n",
       " Row(InvoiceNo='536365', StockCode='84029E', Description='RED WOOLLY HOTTIE WHITE HEART.', Quantity=6, InvoiceDate=datetime.datetime(2010, 12, 1, 8, 26), UnitPrice=3.39, CustomerID=17850.0, Country='United Kingdom')]"
      ]
     },
     "execution_count": 6,
     "metadata": {},
     "output_type": "execute_result"
    }
   ],
   "source": [
    "df.head(5)"
   ]
  },
  {
   "cell_type": "markdown",
   "metadata": {},
   "source": [
    "#### Quick EDA"
   ]
  },
  {
   "cell_type": "code",
   "execution_count": 7,
   "metadata": {},
   "outputs": [
    {
     "name": "stderr",
     "output_type": "stream",
     "text": [
      "24/10/08 14:11:19 WARN TaskSetManager: Stage 1 contains a task of very large size (8486 KiB). The maximum recommended task size is 1000 KiB.\n",
      "24/10/08 14:11:23 WARN PythonRunner: Detected deadlock while completing task 0.0 in stage 1 (TID 1): Attempting to kill Python Worker\n",
      "                                                                                \r"
     ]
    },
    {
     "name": "stdout",
     "output_type": "stream",
     "text": [
      "+---------+---------+-----------------------------------+--------+-------------------+---------+----------+--------------+\n",
      "|InvoiceNo|StockCode|Description                        |Quantity|InvoiceDate        |UnitPrice|CustomerID|Country       |\n",
      "+---------+---------+-----------------------------------+--------+-------------------+---------+----------+--------------+\n",
      "|536365   |85123A   |WHITE HANGING HEART T-LIGHT HOLDER |6       |2010-12-01 08:26:00|2.55     |17850.0   |United Kingdom|\n",
      "|536365   |71053    |WHITE METAL LANTERN                |6       |2010-12-01 08:26:00|3.39     |17850.0   |United Kingdom|\n",
      "|536365   |84406B   |CREAM CUPID HEARTS COAT HANGER     |8       |2010-12-01 08:26:00|2.75     |17850.0   |United Kingdom|\n",
      "|536365   |84029G   |KNITTED UNION FLAG HOT WATER BOTTLE|6       |2010-12-01 08:26:00|3.39     |17850.0   |United Kingdom|\n",
      "|536365   |84029E   |RED WOOLLY HOTTIE WHITE HEART.     |6       |2010-12-01 08:26:00|3.39     |17850.0   |United Kingdom|\n",
      "+---------+---------+-----------------------------------+--------+-------------------+---------+----------+--------------+\n",
      "only showing top 5 rows\n",
      "\n"
     ]
    }
   ],
   "source": [
    "df.show(5,0)"
   ]
  },
  {
   "cell_type": "markdown",
   "metadata": {},
   "source": [
    "*Variables*\n",
    "\n",
    "InvoiceNo: The unique identifier of each customer invoice.\n",
    "\n",
    "StockCode: The unique identifier of each item in stock.\n",
    "\n",
    "Description: The item purchased by the customer.\n",
    "\n",
    "Quantity: The number of each item purchased by a customer in a single invoice.\n",
    "\n",
    "InvoiceDate: The purchase date.\n",
    "\n",
    "UnitPrice: Price of one unit of each item.\n",
    "\n",
    "CustomerID: Unique identifier assigned to each user.\n",
    "\n",
    "Country: The country from where the purchase was made"
   ]
  },
  {
   "cell_type": "code",
   "execution_count": 8,
   "metadata": {},
   "outputs": [
    {
     "name": "stderr",
     "output_type": "stream",
     "text": [
      "24/10/08 14:14:01 WARN TaskSetManager: Stage 2 contains a task of very large size (8486 KiB). The maximum recommended task size is 1000 KiB.\n",
      "                                                                                \r"
     ]
    },
    {
     "data": {
      "text/plain": [
       "541909"
      ]
     },
     "execution_count": 8,
     "metadata": {},
     "output_type": "execute_result"
    }
   ],
   "source": [
    "#data size\n",
    "df.count()  "
   ]
  },
  {
   "cell_type": "code",
   "execution_count": 10,
   "metadata": {},
   "outputs": [
    {
     "name": "stderr",
     "output_type": "stream",
     "text": [
      "24/10/08 14:14:31 WARN TaskSetManager: Stage 5 contains a task of very large size (8486 KiB). The maximum recommended task size is 1000 KiB.\n",
      "                                                                                \r"
     ]
    },
    {
     "data": {
      "text/plain": [
       "4373"
      ]
     },
     "execution_count": 10,
     "metadata": {},
     "output_type": "execute_result"
    }
   ],
   "source": [
    "#unique \n",
    "df.select('CustomerID').distinct().count() "
   ]
  },
  {
   "cell_type": "code",
   "execution_count": 11,
   "metadata": {},
   "outputs": [
    {
     "name": "stderr",
     "output_type": "stream",
     "text": [
      "24/10/08 14:15:09 WARN TaskSetManager: Stage 11 contains a task of very large size (8486 KiB). The maximum recommended task size is 1000 KiB.\n",
      "[Stage 11:===========================================>              (3 + 1) / 4]\r"
     ]
    },
    {
     "name": "stdout",
     "output_type": "stream",
     "text": [
      "+------------------+-------------+\n",
      "|           Country|country_count|\n",
      "+------------------+-------------+\n",
      "|            Sweden|            8|\n",
      "|         Singapore|            1|\n",
      "|           Germany|           95|\n",
      "|               RSA|            1|\n",
      "|            France|           88|\n",
      "|            Greece|            4|\n",
      "|European Community|            1|\n",
      "|           Belgium|           25|\n",
      "|           Finland|           12|\n",
      "|             Malta|            2|\n",
      "|       Unspecified|            5|\n",
      "|             Italy|           15|\n",
      "|              EIRE|            4|\n",
      "|         Lithuania|            1|\n",
      "|            Norway|           10|\n",
      "|             Spain|           31|\n",
      "|           Denmark|            9|\n",
      "|         Hong Kong|            1|\n",
      "|           Iceland|            1|\n",
      "|            Israel|            5|\n",
      "+------------------+-------------+\n",
      "only showing top 20 rows\n",
      "\n"
     ]
    },
    {
     "name": "stderr",
     "output_type": "stream",
     "text": [
      "                                                                                \r"
     ]
    }
   ],
   "source": [
    "#country with most purchases\n",
    "df.groupBy('Country').agg(countDistinct('CustomerID').alias('country_count')).show()"
   ]
  },
  {
   "cell_type": "code",
   "execution_count": 12,
   "metadata": {},
   "outputs": [
    {
     "name": "stderr",
     "output_type": "stream",
     "text": [
      "24/10/08 14:15:54 WARN TaskSetManager: Stage 17 contains a task of very large size (8486 KiB). The maximum recommended task size is 1000 KiB.\n",
      "[Stage 17:=============================>                            (2 + 2) / 4]\r"
     ]
    },
    {
     "name": "stdout",
     "output_type": "stream",
     "text": [
      "+---------------+-------------+\n",
      "|        Country|country_count|\n",
      "+---------------+-------------+\n",
      "| United Kingdom|         3951|\n",
      "|        Germany|           95|\n",
      "|         France|           88|\n",
      "|          Spain|           31|\n",
      "|        Belgium|           25|\n",
      "|    Switzerland|           22|\n",
      "|       Portugal|           20|\n",
      "|          Italy|           15|\n",
      "|        Finland|           12|\n",
      "|        Austria|           11|\n",
      "|         Norway|           10|\n",
      "|        Denmark|            9|\n",
      "|Channel Islands|            9|\n",
      "|      Australia|            9|\n",
      "|    Netherlands|            9|\n",
      "|         Sweden|            8|\n",
      "|         Cyprus|            8|\n",
      "|          Japan|            8|\n",
      "|         Poland|            6|\n",
      "|    Unspecified|            5|\n",
      "+---------------+-------------+\n",
      "only showing top 20 rows\n",
      "\n"
     ]
    },
    {
     "name": "stderr",
     "output_type": "stream",
     "text": [
      "                                                                                \r"
     ]
    }
   ],
   "source": [
    "#Sort purchases\n",
    "df.groupBy('Country').agg(countDistinct('CustomerID').alias('country_count')).orderBy(desc('country_count')).show()"
   ]
  },
  {
   "cell_type": "code",
   "execution_count": 14,
   "metadata": {},
   "outputs": [
    {
     "name": "stderr",
     "output_type": "stream",
     "text": [
      "24/10/08 14:16:31 WARN TaskSetManager: Stage 23 contains a task of very large size (8486 KiB). The maximum recommended task size is 1000 KiB.\n",
      "[Stage 23:===========================================>              (3 + 1) / 4]\r"
     ]
    },
    {
     "name": "stdout",
     "output_type": "stream",
     "text": [
      "+-------------------+\n",
      "|          max(date)|\n",
      "+-------------------+\n",
      "|2011-12-09 12:50:00|\n",
      "+-------------------+\n",
      "\n"
     ]
    },
    {
     "name": "stderr",
     "output_type": "stream",
     "text": [
      "                                                                                \r"
     ]
    }
   ],
   "source": [
    "#latest purchase\n",
    "spark.sql(\"set spark.sql.legacy.timeParserPolicy=LEGACY\")\n",
    "df = df.withColumn('date',to_timestamp(\"InvoiceDate\", 'yy/MM/dd HH:mm'))\n",
    "df.select(max(\"date\")).show()"
   ]
  },
  {
   "cell_type": "code",
   "execution_count": 15,
   "metadata": {},
   "outputs": [
    {
     "name": "stderr",
     "output_type": "stream",
     "text": [
      "24/10/08 14:17:17 WARN TaskSetManager: Stage 26 contains a task of very large size (8486 KiB). The maximum recommended task size is 1000 KiB.\n",
      "[Stage 26:>                                                         (0 + 4) / 4]\r"
     ]
    },
    {
     "name": "stdout",
     "output_type": "stream",
     "text": [
      "+-------------------+\n",
      "|          min(date)|\n",
      "+-------------------+\n",
      "|2010-12-01 08:26:00|\n",
      "+-------------------+\n",
      "\n"
     ]
    },
    {
     "name": "stderr",
     "output_type": "stream",
     "text": [
      "                                                                                \r"
     ]
    }
   ],
   "source": [
    "df.select(min(\"date\")).show()"
   ]
  },
  {
   "cell_type": "markdown",
   "metadata": {},
   "source": [
    "#### Quick Data Pre-processing"
   ]
  },
  {
   "cell_type": "markdown",
   "metadata": {},
   "source": [
    "From our data we will to create multiple customer segments based on each user’s purchase behavior. \n",
    "\n",
    "The variables in this dataset are in a format that cannot be easily ingested into the customer segmentation model. These features individually do not tell us much about customer purchase behavior.\n",
    "\n",
    "Due to this, we will use the existing variables to derive three new informative features - recency, frequency, and monetary value (RFM).\n",
    "\n",
    "RFM is commonly used in marketing to evaluate a client’s value based on their:\n",
    "\n",
    "*Recency*: How recently has each customer made a purchase?\n",
    "*Frequency*: How often have they bought something?\n",
    "*Monetary Value*: How much money do they spend on average when making purchases?\n",
    "We will now preprocess the dataframe to create the above variables.\n",
    "\n",
    "*Recency*\n",
    "First, let’s calculate the value of recency - the latest date and time a purchase was made on the platform. This can be achieved in two steps:\n",
    "\n",
    "i) Assign a recency score to each customer\n",
    "*We will subtract every date in the dataframe from the earliest date. This will tell us how recently a customer was seen in the dataframe. A value of 0 indicates the lowest recency, as it will be assigned to the person who was seen making a purchase on the earliest date."
   ]
  },
  {
   "cell_type": "code",
   "execution_count": 16,
   "metadata": {},
   "outputs": [],
   "source": [
    "df = df.withColumn(\"from_date\", lit(\"12/1/10 08:26\"))\n",
    "df = df.withColumn('from_date',to_timestamp(\"from_date\", 'yy/MM/dd HH:mm'))\n",
    "\n",
    "df2=df.withColumn('from_date',to_timestamp(col('from_date'))).withColumn('recency',col(\"date\").cast(\"long\") - col('from_date').cast(\"long\"))"
   ]
  },
  {
   "cell_type": "markdown",
   "metadata": {},
   "source": [
    "ii) Select the most recent purchase"
   ]
  },
  {
   "cell_type": "code",
   "execution_count": 17,
   "metadata": {},
   "outputs": [],
   "source": [
    "df2 = df2.join(df2.groupBy('CustomerID').agg(max('recency').alias('recency')),on='recency',how='leftsemi')"
   ]
  },
  {
   "cell_type": "code",
   "execution_count": 18,
   "metadata": {},
   "outputs": [
    {
     "name": "stderr",
     "output_type": "stream",
     "text": [
      "24/10/08 14:21:56 WARN TaskSetManager: Stage 29 contains a task of very large size (8486 KiB). The maximum recommended task size is 1000 KiB.\n",
      "24/10/08 14:22:06 WARN TaskSetManager: Stage 30 contains a task of very large size (8486 KiB). The maximum recommended task size is 1000 KiB.\n",
      "                                                                                \r"
     ]
    },
    {
     "name": "stdout",
     "output_type": "stream",
     "text": [
      "+---------+---------+---------+------------------------+--------+-------------------+---------+----------+--------------+-------------------+-------------------+\n",
      "|recency  |InvoiceNo|StockCode|Description             |Quantity|InvoiceDate        |UnitPrice|CustomerID|Country       |date               |from_date          |\n",
      "+---------+---------+---------+------------------------+--------+-------------------+---------+----------+--------------+-------------------+-------------------+\n",
      "|-27704940|544815   |22421    |LIPSTICK PEN FUSCHIA    |12      |2011-02-23 16:37:00|0.42     |17171.0   |United Kingdom|2011-02-23 16:37:00|2012-01-10 08:26:00|\n",
      "|-27704940|544815   |22419    |LIPSTICK PEN RED        |12      |2011-02-23 16:37:00|0.42     |17171.0   |United Kingdom|2011-02-23 16:37:00|2012-01-10 08:26:00|\n",
      "|-27704940|544815   |22420    |LIPSTICK PEN BABY PINK  |12      |2011-02-23 16:37:00|0.42     |17171.0   |United Kingdom|2011-02-23 16:37:00|2012-01-10 08:26:00|\n",
      "|-27704940|544815   |22077    |6 RIBBONS RUSTIC CHARM  |12      |2011-02-23 16:37:00|1.65     |17171.0   |United Kingdom|2011-02-23 16:37:00|2012-01-10 08:26:00|\n",
      "|-27704940|544815   |22087    |PAPER BUNTING WHITE LACE|6       |2011-02-23 16:37:00|2.95     |17171.0   |United Kingdom|2011-02-23 16:37:00|2012-01-10 08:26:00|\n",
      "+---------+---------+---------+------------------------+--------+-------------------+---------+----------+--------------+-------------------+-------------------+\n",
      "only showing top 5 rows\n",
      "\n"
     ]
    }
   ],
   "source": [
    "#let's check on recency\n",
    "df2.show(5,0)"
   ]
  },
  {
   "cell_type": "code",
   "execution_count": 20,
   "metadata": {},
   "outputs": [
    {
     "name": "stdout",
     "output_type": "stream",
     "text": [
      "root\n",
      " |-- recency: long (nullable = true)\n",
      " |-- InvoiceNo: string (nullable = true)\n",
      " |-- StockCode: string (nullable = true)\n",
      " |-- Description: string (nullable = true)\n",
      " |-- Quantity: long (nullable = true)\n",
      " |-- InvoiceDate: timestamp (nullable = true)\n",
      " |-- UnitPrice: double (nullable = true)\n",
      " |-- CustomerID: double (nullable = true)\n",
      " |-- Country: string (nullable = true)\n",
      " |-- date: timestamp (nullable = true)\n",
      " |-- from_date: timestamp (nullable = true)\n",
      "\n"
     ]
    }
   ],
   "source": [
    "#view all variables now\n",
    "df2.printSchema()"
   ]
  },
  {
   "cell_type": "markdown",
   "metadata": {},
   "source": [
    "Frequency"
   ]
  },
  {
   "cell_type": "code",
   "execution_count": 21,
   "metadata": {},
   "outputs": [],
   "source": [
    "df_freq = df2.groupBy('CustomerID').agg(count('InvoiceDate').alias('frequency'))"
   ]
  },
  {
   "cell_type": "code",
   "execution_count": 22,
   "metadata": {},
   "outputs": [
    {
     "name": "stderr",
     "output_type": "stream",
     "text": [
      "24/10/08 14:23:14 WARN TaskSetManager: Stage 35 contains a task of very large size (8486 KiB). The maximum recommended task size is 1000 KiB.\n",
      "24/10/08 14:23:21 WARN TaskSetManager: Stage 36 contains a task of very large size (8486 KiB). The maximum recommended task size is 1000 KiB.\n",
      "[Stage 40:>                                                         (0 + 1) / 1]\r"
     ]
    },
    {
     "name": "stdout",
     "output_type": "stream",
     "text": [
      "+----------+---------+\n",
      "|CustomerID|frequency|\n",
      "+----------+---------+\n",
      "|18114.0   |28       |\n",
      "|13973.0   |11       |\n",
      "|13533.0   |33       |\n",
      "|12493.0   |11       |\n",
      "|14024.0   |3        |\n",
      "+----------+---------+\n",
      "only showing top 5 rows\n",
      "\n"
     ]
    },
    {
     "name": "stderr",
     "output_type": "stream",
     "text": [
      "                                                                                \r"
     ]
    }
   ],
   "source": [
    "df_freq.show(5,0)"
   ]
  },
  {
   "cell_type": "code",
   "execution_count": 23,
   "metadata": {},
   "outputs": [],
   "source": [
    "#add it to the main df\n",
    "df3 = df2.join(df_freq,on='CustomerID',how='inner')"
   ]
  },
  {
   "cell_type": "code",
   "execution_count": 24,
   "metadata": {},
   "outputs": [
    {
     "name": "stdout",
     "output_type": "stream",
     "text": [
      "root\n",
      " |-- CustomerID: double (nullable = true)\n",
      " |-- recency: long (nullable = true)\n",
      " |-- InvoiceNo: string (nullable = true)\n",
      " |-- StockCode: string (nullable = true)\n",
      " |-- Description: string (nullable = true)\n",
      " |-- Quantity: long (nullable = true)\n",
      " |-- InvoiceDate: timestamp (nullable = true)\n",
      " |-- UnitPrice: double (nullable = true)\n",
      " |-- Country: string (nullable = true)\n",
      " |-- date: timestamp (nullable = true)\n",
      " |-- from_date: timestamp (nullable = true)\n",
      " |-- frequency: long (nullable = false)\n",
      "\n"
     ]
    }
   ],
   "source": [
    "df3.printSchema()"
   ]
  },
  {
   "cell_type": "markdown",
   "metadata": {},
   "source": [
    "Monetary Value\n",
    "\n",
    "the total amount spent by each customer. \n",
    "\n",
    " i) Find the total amount spent in each purchase:\n",
    "\n",
    "Each customerID comes with variables called Quantity and UnitPrice for a single purchase:\n",
    "\n",
    " Quantity * UnitPrice"
   ]
  },
  {
   "cell_type": "code",
   "execution_count": 25,
   "metadata": {},
   "outputs": [],
   "source": [
    "m_val = df3.withColumn('TotalAmount',col(\"Quantity\") * col(\"UnitPrice\"))"
   ]
  },
  {
   "cell_type": "markdown",
   "metadata": {},
   "source": [
    "ii) Find the total amount spent by each customer:"
   ]
  },
  {
   "cell_type": "code",
   "execution_count": 26,
   "metadata": {},
   "outputs": [],
   "source": [
    "m_val = m_val.groupBy('CustomerID').agg(sum('TotalAmount').alias('monetary_value'))"
   ]
  },
  {
   "cell_type": "code",
   "execution_count": 27,
   "metadata": {},
   "outputs": [],
   "source": [
    "#add it to the other df\n",
    "finaldf = m_val.join(df3,on='CustomerID',how='inner')"
   ]
  },
  {
   "cell_type": "code",
   "execution_count": 28,
   "metadata": {},
   "outputs": [],
   "source": [
    "#columns that we use for the model only\n",
    "finaldf = finaldf.select(['recency','frequency','monetary_value','CustomerID']).distinct()"
   ]
  },
  {
   "cell_type": "markdown",
   "metadata": {},
   "source": [
    "Standardization - to scale the variables"
   ]
  },
  {
   "cell_type": "code",
   "execution_count": 29,
   "metadata": {},
   "outputs": [
    {
     "name": "stderr",
     "output_type": "stream",
     "text": [
      "24/10/08 14:27:38 WARN TaskSetManager: Stage 44 contains a task of very large size (8486 KiB). The maximum recommended task size is 1000 KiB.\n",
      "24/10/08 14:28:02 WARN TaskSetManager: Stage 45 contains a task of very large size (8486 KiB). The maximum recommended task size is 1000 KiB.\n",
      "24/10/08 14:28:09 WARN TaskSetManager: Stage 46 contains a task of very large size (8486 KiB). The maximum recommended task size is 1000 KiB.\n",
      "24/10/08 14:28:15 WARN TaskSetManager: Stage 47 contains a task of very large size (8486 KiB). The maximum recommended task size is 1000 KiB.\n",
      "                                                                                \r"
     ]
    }
   ],
   "source": [
    "assemble=VectorAssembler(inputCols=[\n",
    "    'recency','frequency','monetary_value'\n",
    "], outputCol='features')\n",
    "\n",
    "assembled_data=assemble.transform(finaldf)\n",
    "\n",
    "scale=StandardScaler(inputCol='features',outputCol='standardized')\n",
    "data_scale=scale.fit(assembled_data)\n",
    "data_scale_output=data_scale.transform(assembled_data)"
   ]
  },
  {
   "cell_type": "code",
   "execution_count": 31,
   "metadata": {},
   "outputs": [
    {
     "name": "stderr",
     "output_type": "stream",
     "text": [
      "24/10/08 14:32:12 WARN TaskSetManager: Stage 83 contains a task of very large size (8486 KiB). The maximum recommended task size is 1000 KiB.\n",
      "24/10/08 14:32:23 WARN TaskSetManager: Stage 84 contains a task of very large size (8486 KiB). The maximum recommended task size is 1000 KiB.\n",
      "24/10/08 14:32:34 WARN TaskSetManager: Stage 85 contains a task of very large size (8486 KiB). The maximum recommended task size is 1000 KiB.\n",
      "24/10/08 14:32:41 WARN TaskSetManager: Stage 86 contains a task of very large size (8486 KiB). The maximum recommended task size is 1000 KiB.\n",
      "[Stage 110:>                                                        (0 + 1) / 1]\r"
     ]
    },
    {
     "name": "stdout",
     "output_type": "stream",
     "text": [
      "+--------------------------------------------------------------+\n",
      "|standardized                                                  |\n",
      "+--------------------------------------------------------------+\n",
      "|[-2.026892415433531,0.02078788124665093,0.0399651638373568]   |\n",
      "|[-0.42344813175146395,0.13858587497767286,0.09925473358128228]|\n",
      "+--------------------------------------------------------------+\n",
      "only showing top 2 rows\n",
      "\n"
     ]
    },
    {
     "name": "stderr",
     "output_type": "stream",
     "text": [
      "                                                                                \r"
     ]
    }
   ],
   "source": [
    "#check on standardized features\n",
    "data_scale_output.select('standardized').show(2,truncate=False)"
   ]
  },
  {
   "cell_type": "markdown",
   "metadata": {},
   "source": [
    "#### Build the Model!!!\n",
    "\n",
    "i) Finding the number of clusters to use using K Means\n",
    "\n",
    "When building a K-Means clustering model, we need to determine the number of clusters or groups we want the algorithm to return. If we pick 3 we get 3 customer segments.\n",
    "\n",
    " “elbow-method” is popularly used to decide on how many clusters to use in K-Means \n",
    "\n",
    "This is done simply running the K-Means algorithm for a wide range of clusters and visualizing the model results for each cluster. The plot will have an inflection point that looks like an elbow, and we just pick the number of clusters from this point\n",
    "\n",
    "\n",
    "let's try using 2 to 6 clusters"
   ]
  },
  {
   "cell_type": "code",
   "execution_count": 32,
   "metadata": {},
   "outputs": [
    {
     "name": "stderr",
     "output_type": "stream",
     "text": [
      "24/10/08 14:36:24 WARN TaskSetManager: Stage 116 contains a task of very large size (8486 KiB). The maximum recommended task size is 1000 KiB.\n",
      "24/10/08 14:36:33 WARN TaskSetManager: Stage 117 contains a task of very large size (8486 KiB). The maximum recommended task size is 1000 KiB.\n",
      "24/10/08 14:36:38 WARN TaskSetManager: Stage 118 contains a task of very large size (8486 KiB). The maximum recommended task size is 1000 KiB.\n",
      "24/10/08 14:36:48 WARN TaskSetManager: Stage 119 contains a task of very large size (8486 KiB). The maximum recommended task size is 1000 KiB.\n",
      "24/10/08 14:37:01 WARN TaskSetManager: Stage 143 contains a task of very large size (8486 KiB). The maximum recommended task size is 1000 KiB.\n",
      "24/10/08 14:37:07 WARN TaskSetManager: Stage 144 contains a task of very large size (8486 KiB). The maximum recommended task size is 1000 KiB.\n",
      "24/10/08 14:37:11 WARN TaskSetManager: Stage 145 contains a task of very large size (8486 KiB). The maximum recommended task size is 1000 KiB.\n",
      "24/10/08 14:37:19 WARN TaskSetManager: Stage 146 contains a task of very large size (8486 KiB). The maximum recommended task size is 1000 KiB.\n",
      "24/10/08 14:37:34 WARN TaskSetManager: Stage 182 contains a task of very large size (8486 KiB). The maximum recommended task size is 1000 KiB.\n",
      "24/10/08 14:37:39 WARN TaskSetManager: Stage 183 contains a task of very large size (8486 KiB). The maximum recommended task size is 1000 KiB.\n",
      "24/10/08 14:37:45 WARN TaskSetManager: Stage 184 contains a task of very large size (8486 KiB). The maximum recommended task size is 1000 KiB.\n",
      "24/10/08 14:37:52 WARN TaskSetManager: Stage 185 contains a task of very large size (8486 KiB). The maximum recommended task size is 1000 KiB.\n",
      "24/10/08 14:38:11 WARN InstanceBuilder: Failed to load implementation from:dev.ludovic.netlib.blas.JNIBLAS\n",
      "24/10/08 14:38:14 WARN TaskSetManager: Stage 257 contains a task of very large size (8486 KiB). The maximum recommended task size is 1000 KiB.\n",
      "24/10/08 14:38:23 WARN TaskSetManager: Stage 258 contains a task of very large size (8486 KiB). The maximum recommended task size is 1000 KiB.\n",
      "24/10/08 14:38:30 WARN TaskSetManager: Stage 259 contains a task of very large size (8486 KiB). The maximum recommended task size is 1000 KiB.\n",
      "24/10/08 14:38:35 WARN TaskSetManager: Stage 260 contains a task of very large size (8486 KiB). The maximum recommended task size is 1000 KiB.\n",
      "24/10/08 14:38:52 WARN TaskSetManager: Stage 296 contains a task of very large size (8486 KiB). The maximum recommended task size is 1000 KiB.\n",
      "24/10/08 14:38:57 WARN TaskSetManager: Stage 297 contains a task of very large size (8486 KiB). The maximum recommended task size is 1000 KiB.\n",
      "24/10/08 14:39:02 WARN TaskSetManager: Stage 298 contains a task of very large size (8486 KiB). The maximum recommended task size is 1000 KiB.\n",
      "24/10/08 14:39:08 WARN TaskSetManager: Stage 299 contains a task of very large size (8486 KiB). The maximum recommended task size is 1000 KiB.\n",
      "24/10/08 14:39:22 WARN TaskSetManager: Stage 335 contains a task of very large size (8486 KiB). The maximum recommended task size is 1000 KiB.\n",
      "24/10/08 14:39:28 WARN TaskSetManager: Stage 336 contains a task of very large size (8486 KiB). The maximum recommended task size is 1000 KiB.\n",
      "24/10/08 14:39:33 WARN TaskSetManager: Stage 337 contains a task of very large size (8486 KiB). The maximum recommended task size is 1000 KiB.\n",
      "24/10/08 14:39:37 WARN TaskSetManager: Stage 338 contains a task of very large size (8486 KiB). The maximum recommended task size is 1000 KiB.\n",
      "24/10/08 14:39:59 WARN TaskSetManager: Stage 410 contains a task of very large size (8486 KiB). The maximum recommended task size is 1000 KiB.\n",
      "24/10/08 14:40:03 WARN TaskSetManager: Stage 411 contains a task of very large size (8486 KiB). The maximum recommended task size is 1000 KiB.\n",
      "24/10/08 14:40:09 WARN TaskSetManager: Stage 412 contains a task of very large size (8486 KiB). The maximum recommended task size is 1000 KiB.\n",
      "24/10/08 14:40:20 WARN TaskSetManager: Stage 413 contains a task of very large size (8486 KiB). The maximum recommended task size is 1000 KiB.\n",
      "24/10/08 14:40:35 WARN TaskSetManager: Stage 448 contains a task of very large size (8486 KiB). The maximum recommended task size is 1000 KiB.\n",
      "24/10/08 14:40:41 WARN TaskSetManager: Stage 449 contains a task of very large size (8486 KiB). The maximum recommended task size is 1000 KiB.\n",
      "24/10/08 14:40:47 WARN TaskSetManager: Stage 450 contains a task of very large size (8486 KiB). The maximum recommended task size is 1000 KiB.\n",
      "24/10/08 14:40:52 WARN TaskSetManager: Stage 451 contains a task of very large size (8486 KiB). The maximum recommended task size is 1000 KiB.\n",
      "24/10/08 14:41:09 WARN TaskSetManager: Stage 482 contains a task of very large size (8486 KiB). The maximum recommended task size is 1000 KiB.\n",
      "24/10/08 14:41:13 WARN TaskSetManager: Stage 483 contains a task of very large size (8486 KiB). The maximum recommended task size is 1000 KiB.\n",
      "24/10/08 14:41:17 WARN TaskSetManager: Stage 484 contains a task of very large size (8486 KiB). The maximum recommended task size is 1000 KiB.\n",
      "24/10/08 14:41:24 WARN TaskSetManager: Stage 485 contains a task of very large size (8486 KiB). The maximum recommended task size is 1000 KiB.\n",
      "24/10/08 14:41:35 WARN TaskSetManager: Stage 565 contains a task of very large size (8486 KiB). The maximum recommended task size is 1000 KiB.\n",
      "24/10/08 14:41:40 WARN TaskSetManager: Stage 566 contains a task of very large size (8486 KiB). The maximum recommended task size is 1000 KiB.\n",
      "24/10/08 14:41:44 WARN TaskSetManager: Stage 567 contains a task of very large size (8486 KiB). The maximum recommended task size is 1000 KiB.\n",
      "24/10/08 14:41:48 WARN TaskSetManager: Stage 568 contains a task of very large size (8486 KiB). The maximum recommended task size is 1000 KiB.\n",
      "24/10/08 14:41:59 WARN TaskSetManager: Stage 604 contains a task of very large size (8486 KiB). The maximum recommended task size is 1000 KiB.\n",
      "24/10/08 14:42:03 WARN TaskSetManager: Stage 605 contains a task of very large size (8486 KiB). The maximum recommended task size is 1000 KiB.\n",
      "24/10/08 14:42:06 WARN TaskSetManager: Stage 606 contains a task of very large size (8486 KiB). The maximum recommended task size is 1000 KiB.\n",
      "24/10/08 14:42:15 WARN TaskSetManager: Stage 607 contains a task of very large size (8486 KiB). The maximum recommended task size is 1000 KiB.\n",
      "24/10/08 14:42:27 WARN TaskSetManager: Stage 637 contains a task of very large size (8486 KiB). The maximum recommended task size is 1000 KiB.\n",
      "24/10/08 14:42:35 WARN TaskSetManager: Stage 638 contains a task of very large size (8486 KiB). The maximum recommended task size is 1000 KiB.\n",
      "24/10/08 14:42:37 WARN TaskSetManager: Stage 639 contains a task of very large size (8486 KiB). The maximum recommended task size is 1000 KiB.\n",
      "24/10/08 14:42:40 WARN TaskSetManager: Stage 640 contains a task of very large size (8486 KiB). The maximum recommended task size is 1000 KiB.\n",
      "24/10/08 14:42:58 WARN TaskSetManager: Stage 821 contains a task of very large size (8486 KiB). The maximum recommended task size is 1000 KiB.\n",
      "24/10/08 14:43:06 WARN TaskSetManager: Stage 822 contains a task of very large size (8486 KiB). The maximum recommended task size is 1000 KiB.\n",
      "24/10/08 14:43:09 WARN TaskSetManager: Stage 823 contains a task of very large size (8486 KiB). The maximum recommended task size is 1000 KiB.\n",
      "24/10/08 14:43:16 WARN TaskSetManager: Stage 824 contains a task of very large size (8486 KiB). The maximum recommended task size is 1000 KiB.\n",
      "                                                                                \r"
     ]
    }
   ],
   "source": [
    "max_k = 6\n",
    "\n",
    "cost = np.zeros(max_k)\n",
    "\n",
    "evaluator = ClusteringEvaluator(predictionCol='prediction', featuresCol='standardized',metricName='silhouette', distanceMeasure='squaredEuclidean')\n",
    "\n",
    "for i in range(2, max_k):\n",
    "    KMeans_algo=KMeans(featuresCol='standardized', k=i)\n",
    "    KMeans_fit=KMeans_algo.fit(data_scale_output)\n",
    "    output=KMeans_fit.transform(data_scale_output)\n",
    "    cost[i] = KMeans_fit.summary.trainingCost"
   ]
  },
  {
   "cell_type": "code",
   "execution_count": 34,
   "metadata": {},
   "outputs": [
    {
     "data": {
      "image/png": "[encoded data removed]",
      "text/plain": [
       "<Figure size 640x480 with 1 Axes>"
      ]
     },
     "metadata": {},
     "output_type": "display_data"
    }
   ],
   "source": [
    "# visulaise it\n",
    "df_cost = pd.DataFrame(cost[2:])\n",
    "df_cost.columns = [\"cost\"]\n",
    "new_col = range(2, max_k)\n",
    "df_cost.insert(0, 'cluster', new_col)\n",
    "plt.plot(df_cost.cluster, df_cost.cost)\n",
    "plt.xlabel('Number of Clusters')\n",
    "plt.ylabel('Score')\n",
    "plt.title('Elbow Curve')\n",
    "plt.show()"
   ]
  },
  {
   "cell_type": "markdown",
   "metadata": {},
   "source": [
    "ii) Building the K-Means Clustering Model"
   ]
  },
  {
   "cell_type": "code",
   "execution_count": 35,
   "metadata": {},
   "outputs": [
    {
     "name": "stderr",
     "output_type": "stream",
     "text": [
      "24/10/08 14:43:43 WARN TaskSetManager: Stage 861 contains a task of very large size (8486 KiB). The maximum recommended task size is 1000 KiB.\n",
      "24/10/08 14:43:53 WARN TaskSetManager: Stage 862 contains a task of very large size (8486 KiB). The maximum recommended task size is 1000 KiB.\n",
      "24/10/08 14:43:57 WARN TaskSetManager: Stage 863 contains a task of very large size (8486 KiB). The maximum recommended task size is 1000 KiB.\n",
      "24/10/08 14:44:00 WARN TaskSetManager: Stage 864 contains a task of very large size (8486 KiB). The maximum recommended task size is 1000 KiB.\n",
      "24/10/08 14:44:09 WARN TaskSetManager: Stage 900 contains a task of very large size (8486 KiB). The maximum recommended task size is 1000 KiB.\n",
      "24/10/08 14:44:13 WARN TaskSetManager: Stage 901 contains a task of very large size (8486 KiB). The maximum recommended task size is 1000 KiB.\n",
      "24/10/08 14:44:15 WARN TaskSetManager: Stage 902 contains a task of very large size (8486 KiB). The maximum recommended task size is 1000 KiB.\n",
      "24/10/08 14:44:18 WARN TaskSetManager: Stage 903 contains a task of very large size (8486 KiB). The maximum recommended task size is 1000 KiB.\n",
      "24/10/08 14:44:24 WARN TaskSetManager: Stage 983 contains a task of very large size (8486 KiB). The maximum recommended task size is 1000 KiB.\n",
      "24/10/08 14:44:27 WARN TaskSetManager: Stage 984 contains a task of very large size (8486 KiB). The maximum recommended task size is 1000 KiB.\n",
      "24/10/08 14:44:30 WARN TaskSetManager: Stage 985 contains a task of very large size (8486 KiB). The maximum recommended task size is 1000 KiB.\n",
      "24/10/08 14:44:32 WARN TaskSetManager: Stage 986 contains a task of very large size (8486 KiB). The maximum recommended task size is 1000 KiB.\n",
      "                                                                                \r"
     ]
    }
   ],
   "source": [
    "KMeans_algo=KMeans(featuresCol='standardized', k=4)\n",
    "KMeans_fit=KMeans_algo.fit(data_scale_output)"
   ]
  },
  {
   "cell_type": "markdown",
   "metadata": {},
   "source": [
    "iii) predict"
   ]
  },
  {
   "cell_type": "code",
   "execution_count": 36,
   "metadata": {},
   "outputs": [
    {
     "name": "stderr",
     "output_type": "stream",
     "text": [
      "24/10/08 14:44:39 WARN TaskSetManager: Stage 1022 contains a task of very large size (8486 KiB). The maximum recommended task size is 1000 KiB.\n",
      "24/10/08 14:44:42 WARN TaskSetManager: Stage 1023 contains a task of very large size (8486 KiB). The maximum recommended task size is 1000 KiB.\n",
      "24/10/08 14:44:45 WARN TaskSetManager: Stage 1024 contains a task of very large size (8486 KiB). The maximum recommended task size is 1000 KiB.\n",
      "24/10/08 14:44:52 WARN TaskSetManager: Stage 1025 contains a task of very large size (8486 KiB). The maximum recommended task size is 1000 KiB.\n",
      "[Stage 1053:>                                                       (0 + 1) / 1]\r"
     ]
    },
    {
     "name": "stdout",
     "output_type": "stream",
     "text": [
      "+---------+---------+------------------+----------+-----------------------------------+------------------------------------------------------------------+----------+\n",
      "|recency  |frequency|monetary_value    |CustomerID|features                           |standardized                                                      |prediction|\n",
      "+---------+---------+------------------+----------+-----------------------------------+------------------------------------------------------------------+----------+\n",
      "|-17700600|6        |178.51999999999998|17879.0   |[-1.77006E7,6.0,178.51999999999998]|[-2.026892415433531,0.02078788124665093,0.0399651638373568]       |3         |\n",
      "|-3697920 |40       |443.36            |16347.0   |[-3697920.0,40.0,443.36]           |[-0.42344813175146395,0.13858587497767286,0.09925473358128228]    |0         |\n",
      "|-5518440 |33       |527.05            |17623.0   |[-5518440.0,33.0,527.05]           |[-0.631915538514232,0.11433334685658011,0.11799036298722217]      |0         |\n",
      "|-21060540|1        |-12.75            |14288.0   |[-2.106054E7,1.0,-12.75]           |[-2.411638520215953,0.0034646468744418215,-0.0028543347463942373] |3         |\n",
      "|-3454380 |2        |-11.65            |14525.0   |[-3454380.0,2.0,-11.65]            |[-0.39556041162589295,0.006929293748883643,-0.0026080784153327736]|0         |\n",
      "+---------+---------+------------------+----------+-----------------------------------+------------------------------------------------------------------+----------+\n",
      "only showing top 5 rows\n",
      "\n"
     ]
    },
    {
     "name": "stderr",
     "output_type": "stream",
     "text": [
      "                                                                                \r"
     ]
    }
   ],
   "source": [
    "preds=KMeans_fit.transform(data_scale_output)\n",
    "\n",
    "preds.show(5,0)"
   ]
  },
  {
   "cell_type": "markdown",
   "metadata": {},
   "source": [
    "#### Cluster Analysis"
   ]
  },
  {
   "cell_type": "code",
   "execution_count": 37,
   "metadata": {},
   "outputs": [
    {
     "name": "stderr",
     "output_type": "stream",
     "text": [
      "24/10/08 14:45:16 WARN TaskSetManager: Stage 1054 contains a task of very large size (8486 KiB). The maximum recommended task size is 1000 KiB.\n",
      "24/10/08 14:45:24 WARN TaskSetManager: Stage 1055 contains a task of very large size (8486 KiB). The maximum recommended task size is 1000 KiB.\n",
      "24/10/08 14:45:32 WARN TaskSetManager: Stage 1056 contains a task of very large size (8486 KiB). The maximum recommended task size is 1000 KiB.\n",
      "24/10/08 14:45:38 WARN TaskSetManager: Stage 1057 contains a task of very large size (8486 KiB). The maximum recommended task size is 1000 KiB.\n",
      "                                                                                \r"
     ]
    },
    {
     "data": {
      "image/png": "[encoded data removed]",
      "text/plain": [
       "<Figure size 640x480 with 1 Axes>"
      ]
     },
     "metadata": {},
     "output_type": "display_data"
    },
    {
     "data": {
      "image/png": "[encoded data removed]",
      "text/plain": [
       "<Figure size 640x480 with 1 Axes>"
      ]
     },
     "metadata": {},
     "output_type": "display_data"
    },
    {
     "data": {
      "image/png": "[encoded data removed]",
      "text/plain": [
       "<Figure size 640x480 with 1 Axes>"
      ]
     },
     "metadata": {},
     "output_type": "display_data"
    }
   ],
   "source": [
    "df_viz = preds.select('recency','frequency','monetary_value','prediction')\n",
    "df_viz = df_viz.toPandas()\n",
    "avg_df = df_viz.groupby(['prediction'], as_index=False).mean()\n",
    "\n",
    "list1 = ['recency','frequency','monetary_value']\n",
    "\n",
    "for i in list1:\n",
    "    sns.barplot(x='prediction',y=str(i),data=avg_df)\n",
    "    plt.show()"
   ]
  },
  {
   "cell_type": "markdown",
   "metadata": {},
   "source": [
    "Final Assumptions\n",
    "\n",
    "Cluster 0: low recency, frequency, and monetary value\n",
    " \n",
    "\n",
    "Cluster 1: high recency but haven’t been seen spending much on the platform\n",
    "\n",
    "Cluster 2: medium recency and frequency and spend a lot of money on the platform\n",
    " \n",
    "\n",
    "Cluster 3:  high recency and make frequent purchases on the platform. However, they don’t spend much on the platform which means that they tend to select cheaper items in each purchase"
   ]
  },
  {
   "cell_type": "code",
   "execution_count": null,
   "metadata": {},
   "outputs": [],
   "source": []
  }
 ],
 "metadata": {
  "kernelspec": {
   "display_name": "venv",
   "language": "python",
   "name": "python3"
  },
  "language_info": {
   "codemirror_mode": {
    "name": "ipython",
    "version": 3
   },
   "file_extension": ".py",
   "mimetype": "text/x-python",
   "name": "python",
   "nbconvert_exporter": "python",
   "pygments_lexer": "ipython3",
   "version": "3.12.6"
  }
 },
 "nbformat": 4,
 "nbformat_minor": 2
}
